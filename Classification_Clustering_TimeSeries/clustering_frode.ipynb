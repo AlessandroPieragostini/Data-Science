{
 "cells": [
  {
   "cell_type": "code",
   "execution_count": null,
   "id": "65f1f791",
   "metadata": {},
   "outputs": [],
   "source": [
    "\n",
    "import pandas as pd\n",
    "import numpy as np\n",
    "import matplotlib.pyplot as plt\n",
    "import seaborn as sns\n",
    "\n",
    "from sklearn.preprocessing import StandardScaler, LabelEncoder\n",
    "from sklearn.decomposition import PCA\n",
    "from sklearn.cluster import KMeans, DBSCAN, AgglomerativeClustering\n",
    "from sklearn.metrics import silhouette_score, silhouette_samples\n",
    "from sklearn.neighbors import NearestNeighbors\n",
    "from scipy.cluster.hierarchy import dendrogram, linkage\n",
    "\n",
    "import warnings\n",
    "warnings.filterwarnings('ignore')\n",
    "sns.set(style=\"whitegrid\")\n",
    "\n",
    "# Caricamento dati\n",
    "trans_final = pd.read_pickle('./trans_final.pkl')\n",
    "trans_final.dropna(subset=['fraud'], inplace=True)\n",
    "\n",
    "# Encoding variabili categoriche\n",
    "le = LabelEncoder()\n",
    "for column in ['mcc_description', 'merchant_city', 'merchant_state','use_chip','card_brand','card_type','gender','has_chip']:\n",
    "    trans_final[column] = le.fit_transform(trans_final[column])\n",
    "\n",
    "# Pulizia colonne non rilevanti\n",
    "to_drop = ['id_trans','client_id_trans','card_id','client_id_card','id','retirement_age','address','expires','day','time']\n",
    "trans_final = trans_final.drop(to_drop, axis=1)\n",
    "\n",
    "trans_final = trans_final.apply(pd.to_numeric, downcast='integer') \n",
    "trans_final = trans_final.apply(pd.to_numeric, downcast='float') \n"
   ]
  },
  {
   "cell_type": "code",
   "execution_count": null,
   "id": "295e8dfe",
   "metadata": {},
   "outputs": [],
   "source": [
    "\n",
    "# Analisi bidimensionale: current_age vs yearly_income\n",
    "data = trans_final[['current_age', 'yearly_income']].dropna()\n",
    "x = data.values\n",
    "\n",
    "# Normalizzazione\n",
    "scaler = StandardScaler()\n",
    "x_scaled = scaler.fit_transform(x)\n"
   ]
  },
  {
   "cell_type": "code",
   "execution_count": null,
   "id": "09c40fc8",
   "metadata": {},
   "outputs": [],
   "source": [
    "\n",
    "# Elbow method\n",
    "distortions = []\n",
    "K = range(1, 11)\n",
    "for k in K:\n",
    "    kmeanModel = KMeans(n_clusters=k, random_state=0)\n",
    "    kmeanModel.fit(x_scaled)\n",
    "    distortions.append(kmeanModel.inertia_)\n",
    "\n",
    "plt.figure(figsize=(6, 4))\n",
    "plt.plot(K, distortions, 'bx-')\n",
    "plt.xlabel('k')\n",
    "plt.ylabel('Distortion')\n",
    "plt.title('The Elbow Method (2D)')\n",
    "plt.show()\n"
   ]
  },
  {
   "cell_type": "code",
   "execution_count": null,
   "id": "df85082c",
   "metadata": {},
   "outputs": [],
   "source": [
    "\n",
    "# KMeans Clustering\n",
    "kmeans = KMeans(n_clusters=3, random_state=0)\n",
    "labels_kmeans = kmeans.fit_predict(x_scaled)\n",
    "\n",
    "plt.figure(figsize=(6, 4))\n",
    "plt.scatter(x_scaled[:, 0], x_scaled[:, 1], c=labels_kmeans, cmap='viridis')\n",
    "plt.title(\"KMeans Clustering (2D)\")\n",
    "plt.xlabel(\"Age (scaled)\")\n",
    "plt.ylabel(\"Income (scaled)\")\n",
    "plt.show()\n"
   ]
  },
  {
   "cell_type": "code",
   "execution_count": null,
   "id": "f5775135",
   "metadata": {},
   "outputs": [],
   "source": [
    "\n",
    "# Silhouette Score\n",
    "silhouette_avg = silhouette_score(x_scaled, labels_kmeans)\n",
    "print(\"Silhouette Score:\", silhouette_avg)\n"
   ]
  },
  {
   "cell_type": "code",
   "execution_count": null,
   "id": "1ba85313",
   "metadata": {},
   "outputs": [],
   "source": [
    "\n",
    "# Clustering Gerarchico\n",
    "linked = linkage(x_scaled, method='ward')\n",
    "plt.figure(figsize=(10, 5))\n",
    "dendrogram(linked, truncate_mode='level', p=5)\n",
    "plt.title('Gerarchico - Dendrogramma')\n",
    "plt.xlabel('Sample index')\n",
    "plt.ylabel('Distance')\n",
    "plt.show()\n"
   ]
  },
  {
   "cell_type": "code",
   "execution_count": null,
   "id": "c68d0fae",
   "metadata": {},
   "outputs": [],
   "source": [
    "\n",
    "# PCA con 2 componenti\n",
    "pca = PCA(n_components=2)\n",
    "x_pca = pca.fit_transform(StandardScaler().fit_transform(trans_final.drop(columns='fraud')))\n",
    "\n",
    "# Elbow method con PCA\n",
    "distortions_pca = []\n",
    "K = range(1, 11)\n",
    "for k in K:\n",
    "    kmeans = KMeans(n_clusters=k, random_state=0).fit(x_pca)\n",
    "    distortions_pca.append(kmeans.inertia_)\n",
    "\n",
    "plt.figure(figsize=(6, 4))\n",
    "plt.plot(K, distortions_pca, 'bx-')\n",
    "plt.xlabel('k')\n",
    "plt.ylabel('Distortion')\n",
    "plt.title('The Elbow Method (PCA)')\n",
    "plt.show()\n"
   ]
  },
  {
   "cell_type": "code",
   "execution_count": null,
   "id": "56e03037",
   "metadata": {},
   "outputs": [],
   "source": [
    "\n",
    "# PCA + KMeans clustering\n",
    "kmeans_pca = KMeans(n_clusters=3, random_state=0)\n",
    "labels_pca = kmeans_pca.fit_predict(x_pca)\n",
    "\n",
    "plt.figure(figsize=(6, 4))\n",
    "plt.scatter(x_pca[:, 0], x_pca[:, 1], c=labels_pca, cmap='plasma')\n",
    "plt.title('KMeans su PCA')\n",
    "plt.xlabel('PC1')\n",
    "plt.ylabel('PC2')\n",
    "plt.show()\n"
   ]
  },
  {
   "cell_type": "code",
   "execution_count": null,
   "id": "c9c473a4",
   "metadata": {},
   "outputs": [],
   "source": [
    "\n",
    "# Silhouette Score su PCA\n",
    "silhouette_pca = silhouette_score(x_pca, labels_pca)\n",
    "print(\"Silhouette Score (PCA):\", silhouette_pca)\n"
   ]
  },
  {
   "cell_type": "code",
   "execution_count": null,
   "id": "d4c0e08d",
   "metadata": {},
   "outputs": [],
   "source": [
    "\n",
    "# Stima epsilon con Nearest Neighbors\n",
    "neighbors = NearestNeighbors(n_neighbors=5)\n",
    "neighbors_fit = neighbors.fit(x_pca)\n",
    "distances, indices = neighbors_fit.kneighbors(x_pca)\n",
    "\n",
    "distances = np.sort(distances[:, 4])\n",
    "plt.figure(figsize=(6, 4))\n",
    "plt.plot(distances)\n",
    "plt.title(\"K-distance Graph (DBSCAN)\")\n",
    "plt.xlabel(\"Points sorted by distance\")\n",
    "plt.ylabel(\"5-NN distance\")\n",
    "plt.show()\n"
   ]
  },
  {
   "cell_type": "code",
   "execution_count": null,
   "id": "8ebf6ea9",
   "metadata": {},
   "outputs": [],
   "source": [
    "\n",
    "# DBSCAN clustering\n",
    "dbscan = DBSCAN(eps=1.5, min_samples=5)\n",
    "db_labels = dbscan.fit_predict(x_pca)\n",
    "\n",
    "plt.figure(figsize=(6, 4))\n",
    "plt.scatter(x_pca[:, 0], x_pca[:, 1], c=db_labels, cmap='Spectral')\n",
    "plt.title(\"DBSCAN su PCA\")\n",
    "plt.xlabel(\"PC1\")\n",
    "plt.ylabel(\"PC2\")\n",
    "plt.show()\n"
   ]
  }
 ],
 "metadata": {},
 "nbformat": 4,
 "nbformat_minor": 5
}
