{
 "cells": [
  {
   "metadata": {},
   "cell_type": "code",
   "outputs": [],
   "execution_count": null,
   "source": [
    "import zipfile\n",
    "import pandas as pd  # oppure: import csv\n",
    "\n",
    "zip_path     = 'dataset_laptop.zip'\n",
    "csv_inside   = 'laptop.csv'   # percorso interno al .zip\n",
    "\n",
    "with zipfile.ZipFile(zip_path, 'r') as z:\n",
    "    with z.open(csv_inside) as f:\n",
    "        # Se vuoi usare pandas:\n",
    "        df = pd.read_csv(f)\n",
    "df.head()"
   ],
   "id": "f5e71527203b9eec"
  },
  {
   "metadata": {},
   "cell_type": "code",
   "outputs": [],
   "execution_count": null,
   "source": "df.columns",
   "id": "71a1ea0ffad25293"
  },
  {
   "metadata": {},
   "cell_type": "markdown",
   "source": "individuazione NaN",
   "id": "26b6e5619205698a"
  },
  {
   "metadata": {},
   "cell_type": "code",
   "outputs": [],
   "execution_count": null,
   "source": "print(df.isna().sum())",
   "id": "bdc523632aaa0931"
  },
  {
   "metadata": {},
   "cell_type": "markdown",
   "source": "sostituzione dei NaN (dati mancanti) in battery_hrs in -1 che poi verranno gestiti dal chatbot",
   "id": "19450914a9e84ada"
  },
  {
   "metadata": {},
   "cell_type": "code",
   "outputs": [],
   "execution_count": null,
   "source": "df['Battery_Life'] = df['Battery_Life'].fillna(-1)",
   "id": "57df93a6182b962b"
  },
  {
   "metadata": {},
   "cell_type": "markdown",
   "source": "rimozione NaN per la colonna GPU",
   "id": "7a25cfaa5f20eff8"
  },
  {
   "metadata": {},
   "cell_type": "code",
   "outputs": [],
   "execution_count": null,
   "source": "df['GPU'].value_counts()",
   "id": "f6fe1ec711bfbc3"
  },
  {
   "metadata": {},
   "cell_type": "markdown",
   "source": "tentativo di standardizzazione dei nomi GPU dato che molte erano le stesse GPU ma scritte in modo diverso",
   "id": "26ee1b26d0a4205e"
  },
  {
   "metadata": {},
   "cell_type": "code",
   "outputs": [],
   "execution_count": null,
   "source": [
    "import re\n",
    "import pandas as pd\n",
    "\n",
    "def standardizza_gpu(raw: str) -> str:\n",
    "    s = str(raw).lower().strip()\n",
    "    # 1. rimuovo parole chiave ridondanti\n",
    "    s = re.sub(r'\\bgpu\\b', '', s)\n",
    "    s = re.sub(r'\\bgraphics?\\b', '', s)\n",
    "    s = re.sub(r'\\bgb\\b', '', s)\n",
    "    # 2. uniformo varianti max-q / max q\n",
    "    s = re.sub(r'max[\\s-]?q', 'max-q', s)\n",
    "    # 3. pulisco punteggiatura\n",
    "    s = re.sub(r'[,/()]', ' ', s)\n",
    "    s = re.sub(r'\\s+', ' ', s).strip()\n",
    "    # 4. estraggo brand+modello\n",
    "    #   a) NVIDIA GeForce (RTX/GTX/MX)\n",
    "    m = re.search(r'(geforce|gtx|rtx|mx)\\s*([0-9]{3,4})', s)\n",
    "    if m:\n",
    "        return f\"GeForce {m.group(2)}\"\n",
    "    #   b) AMD Radeon RX/Vega\n",
    "    m = re.search(r'(radeon)\\s*(rx\\s*[0-9]{3,4}|vega\\s*\\d+)', s)\n",
    "    if m:\n",
    "        modello = m.group(2).replace(' ', '').upper()\n",
    "        return f\"Radeon {modello}\"\n",
    "    #   c) Intel Iris / UHD / HD\n",
    "    m = re.search(r'(iris xe|max-q|iris plus|uhd|hd)\\s*(\\d{3})?', s)\n",
    "    if m:\n",
    "        name = m.group(1).title()\n",
    "        num  = m.group(2) or ''\n",
    "        return f\"{name} {num}\".strip()\n",
    "    #   d) Apple M1/M2\n",
    "    if 'm1' in s or 'm2' in s:\n",
    "        return s.upper().replace(' ', '')\n",
    "    #   e) Adreno, Arc, Quadro, T-series\n",
    "    m = re.search(r'(adreno|arc|quadro|t\\d{3,4})', s)\n",
    "    if m:\n",
    "        return m.group(1).title()\n",
    "    # 5. integrated generic\n",
    "    if 'integrated' in s:\n",
    "        return 'Integrated'\n",
    "    # 6. fallback: ripropongo il raw originale (o 'Other')\n",
    "    return raw\n",
    "\n",
    "# Applico la funzione al DataFrame\n",
    "df['gpu_standard'] = df['GPU'].apply(standardizza_gpu)\n",
    "\n",
    "# Controllo le nuove categorie\n",
    "print(df['gpu_standard'].value_counts())"
   ],
   "id": "1359856e141c551f"
  },
  {
   "metadata": {},
   "cell_type": "code",
   "outputs": [],
   "execution_count": null,
   "source": "df[df['gpu_standard'].isna()].head(8)",
   "id": "147ad9ac1d3328ab"
  },
  {
   "metadata": {},
   "cell_type": "code",
   "outputs": [],
   "execution_count": null,
   "source": [
    "serie_idx = pd.Series(df[df['gpu_standard'].isna()].Name, name='Name of Laptop without GPU')\n",
    "print(serie_idx)"
   ],
   "id": "c5490e12554005fd"
  },
  {
   "metadata": {},
   "cell_type": "code",
   "outputs": [],
   "execution_count": null,
   "source": [
    "indici_nan_gpu = df[df['gpu_standard'].isna()].index.tolist()\n",
    "print(indici_nan_gpu)"
   ],
   "id": "4cdd8380d48943bd"
  },
  {
   "metadata": {},
   "cell_type": "markdown",
   "source": "inserimento manuale dopo ricerca su internet",
   "id": "30e8cc9a1804989b"
  },
  {
   "metadata": {},
   "cell_type": "code",
   "outputs": [],
   "execution_count": null,
   "source": [
    "df.at[1008,  'gpu_standard'] = 'Iris Xe'\n",
    "df.at[1052,  'gpu_standard'] = 'Integrated'\n",
    "df.at[1117,  'gpu_standard'] = 'Iris Xe'\n",
    "df.at[2147, 'gpu_standard'] = 'Iris Xe'\n",
    "df.at[2153,  'gpu_standard'] = 'Iris Xe'\n",
    "df.at[2621, 'gpu_standard'] = 'Integrated'\n",
    "df.at[2625,  'gpu_standard'] = 'Iris Xe'\n",
    "df.at[2655, 'gpu_standard'] = 'Integrated'"
   ],
   "id": "5f20ca5a100b007d"
  },
  {
   "metadata": {},
   "cell_type": "markdown",
   "source": "rimozione NaN per la colonna GPU_Brand",
   "id": "5329ae2071f5b8e5"
  },
  {
   "metadata": {},
   "cell_type": "code",
   "outputs": [],
   "execution_count": null,
   "source": "df[df['GPU_Brand'].isna()].head()",
   "id": "e780303447059489"
  },
  {
   "metadata": {},
   "cell_type": "code",
   "outputs": [],
   "execution_count": null,
   "source": [
    "categorie = df['GPU_Brand'].unique()\n",
    "print(\"Categorie trovate:\", categorie)"
   ],
   "id": "237cc5fc6fee155a"
  },
  {
   "metadata": {},
   "cell_type": "code",
   "outputs": [],
   "execution_count": null,
   "source": [
    "missing_idx = df[df['GPU_Brand'].isna()].index.tolist()\n",
    "print(missing_idx)\n"
   ],
   "id": "f8774ec6508180f4"
  },
  {
   "metadata": {},
   "cell_type": "code",
   "outputs": [],
   "execution_count": null,
   "source": [
    "df.at[3275,  'GPU_Brand'] = 'AMD'\n",
    "df.at[3491,  'GPU_Brand'] = 'AMD'\n",
    "df.at[3599,  'GPU_Brand'] = 'Apple'\n",
    "df.at[3699, 'GPU_Brand'] = 'Apple'\n",
    "\n"
   ],
   "id": "8d796ebc86e48c5f"
  },
  {
   "metadata": {},
   "cell_type": "markdown",
   "source": "cambio valuta da rupie indiane a euro",
   "id": "2513a6e35e180211"
  },
  {
   "metadata": {},
   "cell_type": "code",
   "outputs": [],
   "execution_count": null,
   "source": [
    "tasso_inr_eur = 0.0102\n",
    "\n",
    "df['price_eur'] = (df['Price'] * tasso_inr_eur).round(2)"
   ],
   "id": "6259bdb7201fd47c"
  },
  {
   "metadata": {},
   "cell_type": "markdown",
   "source": "standardizzazione dei Processor_Name",
   "id": "f8f90c8e2bbb74f4"
  },
  {
   "metadata": {},
   "cell_type": "code",
   "outputs": [],
   "execution_count": null,
   "source": "df['Processor_Name'].value_counts()",
   "id": "8718b7fc40ac0460"
  },
  {
   "metadata": {},
   "cell_type": "code",
   "outputs": [],
   "execution_count": null,
   "source": [
    "df['Processor_Name'] = (\n",
    "    df['Processor_Name']\n",
    "      .str.replace(r'\\bProcessor\\b', '', regex=True)  # toglie solo la parola intera\n",
    "      .str.replace(r'\\s+', ' ',       regex=True)     # unisce eventuali doppi spazi\n",
    "      .str.strip()                                   # rimuove spazi iniziali/finali\n",
    ")"
   ],
   "id": "de897100dfd1d158"
  },
  {
   "metadata": {},
   "cell_type": "markdown",
   "source": "estrazione dei soli numeri per le categorie numeriche, escludendo eventuali caratteri aggiuntivi",
   "id": "f380eaf924c1003f"
  },
  {
   "metadata": {},
   "cell_type": "code",
   "outputs": [],
   "execution_count": null,
   "source": [
    "# helper per pullulare numeri\n",
    "import re\n",
    "def estrai_numero(x):\n",
    "    m = re.search(r'(\\d+(\\.\\d+)?)', str(x))\n",
    "    return float(m.group(1)) if m else None\n",
    "\n",
    "# Price\n",
    "df['price'] = df['price_eur'].apply(estrai_numero)\n",
    "\n",
    "#Ghz\n",
    "df['ghz'] = df['Ghz'].apply(estrai_numero)\n",
    "\n",
    "# RAM (GB)\n",
    "df['ram_gb']   = df['RAM'].apply(estrai_numero)\n",
    "\n",
    "# SSD (GB)\n",
    "df['ssd_gb']   = df['SSD'].apply(\n",
    "    lambda x: 0 if str(x).strip().lower() == 'no ssd'\n",
    "              else estrai_numero(x)\n",
    ")\n",
    "# HDD (se presente)\n",
    "df['hdd_gb']   = df['HDD'].apply(estrai_numero).fillna(0)\n",
    "\n",
    "# Display size (inch)\n",
    "df['display_inch'] = df['Display'].apply(estrai_numero)\n",
    "\n",
    "# Adapter wattaggio\n",
    "df['adapter_w'] = df['Adapter'].apply(\n",
    "    lambda x: 0 if str(x).strip().lower() == 'no'\n",
    "              else estrai_numero(x)\n",
    ")\n",
    "\n",
    "# Battery life (ore)\n",
    "def estrai_ore(x):\n",
    "    # es. “Upto 7.30 Hrs” → 7.5\n",
    "    nums = re.findall(r'(\\d+(?:\\.\\d+)?)', str(x))\n",
    "    if not nums: return None\n",
    "    h = float(nums[0])\n",
    "    # se c’è .30, consideralo come decimale\n",
    "    return h\n",
    "df['battery_hrs'] = df['Battery_Life'].apply(estrai_ore)\n",
    "\n",
    "df['ram_expandable_gb'] = df['RAM_Expandable'].apply(\n",
    "    lambda x: 0 if 'Not' in str(x) else estrai_numero(x)\n",
    ")\n",
    "\n",
    "df.head()\n"
   ],
   "id": "d5f2224fff93065b"
  },
  {
   "cell_type": "markdown",
   "id": "090328c5",
   "metadata": {},
   "source": [
    "rimozione informazioni ridondanti nel nome del modello"
   ]
  },
  {
   "cell_type": "code",
   "execution_count": 686,
   "id": "ce3755c2",
   "metadata": {},
   "outputs": [
    {
     "name": "stdout",
     "output_type": "stream",
     "text": [
      "Numero di righe nel dataset: 3976\n",
      "Numero di laptop nel dataset: 3976\n"
     ]
    }
   ],
   "source": [
    "num_righe = df.shape[0]\n",
    "print(f\"Numero di righe nel dataset: {num_righe}\")\n",
    "\n",
    "count_laptop = df['Name'].str.contains('Laptop', case=False, na=False).sum()\n",
    "print(f\"Numero di laptop nel dataset: {count_laptop}\")\n"
   ]
  },
  {
   "cell_type": "code",
   "execution_count": 687,
   "id": "c4a6f6e6",
   "metadata": {},
   "outputs": [],
   "source": [
    "df['Name'] = df['Name'].str.split('Laptop', n=1).str[0]\n",
    "df['Name'] = df['Name'].str.split('Ultrabook', n=1).str[0]"
   ]
  },
  {
   "cell_type": "markdown",
   "id": "c5d9ad82",
   "metadata": {},
   "source": [
    "rimozione colonne inutili"
   ]
  },
  {
   "cell_type": "code",
   "execution_count": 688,
   "id": "5c7163bf",
   "metadata": {},
   "outputs": [
    {
     "data": {
      "text/html": [
       "<div>\n",
       "<style scoped>\n",
       "    .dataframe tbody tr th:only-of-type {\n",
       "        vertical-align: middle;\n",
       "    }\n",
       "\n",
       "    .dataframe tbody tr th {\n",
       "        vertical-align: top;\n",
       "    }\n",
       "\n",
       "    .dataframe thead th {\n",
       "        text-align: right;\n",
       "    }\n",
       "</style>\n",
       "<table border=\"1\" class=\"dataframe\">\n",
       "  <thead>\n",
       "    <tr style=\"text-align: right;\">\n",
       "      <th></th>\n",
       "      <th>brand</th>\n",
       "      <th>name</th>\n",
       "      <th>processor_name</th>\n",
       "      <th>processor_brand</th>\n",
       "      <th>ram_type</th>\n",
       "      <th>display_type</th>\n",
       "      <th>gpu_brand</th>\n",
       "      <th>gpu</th>\n",
       "      <th>price</th>\n",
       "      <th>ghz</th>\n",
       "      <th>ram_gb</th>\n",
       "      <th>ssd_gb</th>\n",
       "      <th>hdd_gb</th>\n",
       "      <th>display_inch</th>\n",
       "      <th>adapter_w</th>\n",
       "      <th>battery_hrs</th>\n",
       "      <th>ram_expandable_gb</th>\n",
       "    </tr>\n",
       "  </thead>\n",
       "  <tbody>\n",
       "    <tr>\n",
       "      <th>0</th>\n",
       "      <td>HP</td>\n",
       "      <td>HP Chromebook 11A-NA0002MU (2E4N0PA)</td>\n",
       "      <td>MediaTek Octa-core</td>\n",
       "      <td>MediaTek</td>\n",
       "      <td>DDR4 RAM</td>\n",
       "      <td>LED</td>\n",
       "      <td>MediaTek</td>\n",
       "      <td>Integrated</td>\n",
       "      <td>234.50</td>\n",
       "      <td>2.0</td>\n",
       "      <td>4.0</td>\n",
       "      <td>64.0</td>\n",
       "      <td>0.0</td>\n",
       "      <td>11.6</td>\n",
       "      <td>45.0</td>\n",
       "      <td>12.0</td>\n",
       "      <td>0.0</td>\n",
       "    </tr>\n",
       "    <tr>\n",
       "      <th>1</th>\n",
       "      <td>Lenovo</td>\n",
       "      <td>Lenovo Ideapad Slim 3 (82KU017KIN)</td>\n",
       "      <td>AMD Hexa-Core Ryzen 5</td>\n",
       "      <td>AMD</td>\n",
       "      <td>DDR4 RAM</td>\n",
       "      <td>LCD</td>\n",
       "      <td>AMD</td>\n",
       "      <td>Radeon</td>\n",
       "      <td>370.15</td>\n",
       "      <td>4.0</td>\n",
       "      <td>8.0</td>\n",
       "      <td>512.0</td>\n",
       "      <td>0.0</td>\n",
       "      <td>15.6</td>\n",
       "      <td>65.0</td>\n",
       "      <td>11.0</td>\n",
       "      <td>12.0</td>\n",
       "    </tr>\n",
       "    <tr>\n",
       "      <th>2</th>\n",
       "      <td>Dell</td>\n",
       "      <td>Dell G15-5520 (D560822WIN9B)</td>\n",
       "      <td>Intel Core i5 (12th Gen)</td>\n",
       "      <td>Intel</td>\n",
       "      <td>DDR5 RAM</td>\n",
       "      <td>LCD</td>\n",
       "      <td>NVIDIA</td>\n",
       "      <td>GeForce 3050</td>\n",
       "      <td>800.70</td>\n",
       "      <td>3.3</td>\n",
       "      <td>16.0</td>\n",
       "      <td>512.0</td>\n",
       "      <td>0.0</td>\n",
       "      <td>15.6</td>\n",
       "      <td>56.0</td>\n",
       "      <td>10.0</td>\n",
       "      <td>32.0</td>\n",
       "    </tr>\n",
       "    <tr>\n",
       "      <th>3</th>\n",
       "      <td>HP</td>\n",
       "      <td>HP 15s-fy5007TU (91R03PA)</td>\n",
       "      <td>Intel Core i5 (12th Gen)</td>\n",
       "      <td>Intel</td>\n",
       "      <td>DDR4 RAM</td>\n",
       "      <td>LCD</td>\n",
       "      <td>Intel</td>\n",
       "      <td>Iris Xe</td>\n",
       "      <td>566.00</td>\n",
       "      <td>4.2</td>\n",
       "      <td>8.0</td>\n",
       "      <td>512.0</td>\n",
       "      <td>0.0</td>\n",
       "      <td>15.6</td>\n",
       "      <td>0.0</td>\n",
       "      <td>7.3</td>\n",
       "      <td>8.0</td>\n",
       "    </tr>\n",
       "    <tr>\n",
       "      <th>4</th>\n",
       "      <td>Infinix</td>\n",
       "      <td>Infinix Inbook Y2 Plus XL29</td>\n",
       "      <td>Intel Core i3 (11th Gen)</td>\n",
       "      <td>Intel</td>\n",
       "      <td>LPDDR4X RAM</td>\n",
       "      <td>LCD</td>\n",
       "      <td>Intel</td>\n",
       "      <td>Uhd</td>\n",
       "      <td>224.30</td>\n",
       "      <td>1.7</td>\n",
       "      <td>8.0</td>\n",
       "      <td>512.0</td>\n",
       "      <td>0.0</td>\n",
       "      <td>15.6</td>\n",
       "      <td>45.0</td>\n",
       "      <td>8.0</td>\n",
       "      <td>0.0</td>\n",
       "    </tr>\n",
       "  </tbody>\n",
       "</table>\n",
       "</div>"
      ],
      "text/plain": [
       "     brand                                   name            processor_name  \\\n",
       "0       HP  HP Chromebook 11A-NA0002MU (2E4N0PA)         MediaTek Octa-core   \n",
       "1   Lenovo    Lenovo Ideapad Slim 3 (82KU017KIN)      AMD Hexa-Core Ryzen 5   \n",
       "2     Dell          Dell G15-5520 (D560822WIN9B)   Intel Core i5 (12th Gen)   \n",
       "3       HP             HP 15s-fy5007TU (91R03PA)   Intel Core i5 (12th Gen)   \n",
       "4  Infinix           Infinix Inbook Y2 Plus XL29   Intel Core i3 (11th Gen)   \n",
       "\n",
       "  processor_brand      ram_type display_type gpu_brand           gpu   price  \\\n",
       "0        MediaTek      DDR4 RAM          LED  MediaTek    Integrated  234.50   \n",
       "1             AMD     DDR4 RAM           LCD       AMD        Radeon  370.15   \n",
       "2           Intel     DDR5 RAM           LCD    NVIDIA  GeForce 3050  800.70   \n",
       "3           Intel     DDR4 RAM           LCD     Intel       Iris Xe  566.00   \n",
       "4           Intel   LPDDR4X RAM          LCD     Intel           Uhd  224.30   \n",
       "\n",
       "   ghz  ram_gb  ssd_gb  hdd_gb  display_inch  adapter_w  battery_hrs  \\\n",
       "0  2.0     4.0    64.0     0.0          11.6       45.0         12.0   \n",
       "1  4.0     8.0   512.0     0.0          15.6       65.0         11.0   \n",
       "2  3.3    16.0   512.0     0.0          15.6       56.0         10.0   \n",
       "3  4.2     8.0   512.0     0.0          15.6        0.0          7.3   \n",
       "4  1.7     8.0   512.0     0.0          15.6       45.0          8.0   \n",
       "\n",
       "   ram_expandable_gb  \n",
       "0                0.0  \n",
       "1               12.0  \n",
       "2               32.0  \n",
       "3                8.0  \n",
       "4                0.0  "
      ]
     },
     "execution_count": 688,
     "metadata": {},
     "output_type": "execute_result"
    }
   ],
   "source": [
    "df_clean = df.drop(['Unnamed: 0','Price','price_eur','Ghz','RAM','SSD','HDD','GPU','Display','Adapter','Battery_Life','RAM_Expandable'], axis=1)\n",
    "df_clean.rename(columns={'gpu_standard': 'gpu',                     \n",
    "                         'Processor_Brand': 'processor_brand',\n",
    "                         'GPU_Brand': 'gpu_brand',\n",
    "                         'RAM_TYPE': 'ram_type',\n",
    "                         'Processor_Name': 'processor_name',\n",
    "                         'Name': 'name',\n",
    "                         'Brand': 'brand',\n",
    "                         'Display_type': 'display_type',},\n",
    "          inplace=True)\n",
    "df_clean.head()"
   ]
  },
  {
   "cell_type": "code",
   "execution_count": 689,
   "id": "d1f9ada3",
   "metadata": {},
   "outputs": [
    {
     "name": "stdout",
     "output_type": "stream",
     "text": [
      "brand                0\n",
      "name                 0\n",
      "processor_name       0\n",
      "processor_brand      0\n",
      "ram_type             0\n",
      "display_type         0\n",
      "gpu_brand            0\n",
      "gpu                  0\n",
      "price                0\n",
      "ghz                  0\n",
      "ram_gb               0\n",
      "ssd_gb               0\n",
      "hdd_gb               0\n",
      "display_inch         1\n",
      "adapter_w            0\n",
      "battery_hrs          0\n",
      "ram_expandable_gb    0\n",
      "dtype: int64\n"
     ]
    }
   ],
   "source": [
    "print(df_clean.isna().sum())\n",
    "\n"
   ]
  },
  {
   "cell_type": "markdown",
   "id": "161d9e04",
   "metadata": {},
   "source": [
    "rimozione NaN per la colonna display_inch"
   ]
  },
  {
   "cell_type": "code",
   "execution_count": 690,
   "id": "126ba30e",
   "metadata": {},
   "outputs": [
    {
     "data": {
      "text/html": [
       "<div>\n",
       "<style scoped>\n",
       "    .dataframe tbody tr th:only-of-type {\n",
       "        vertical-align: middle;\n",
       "    }\n",
       "\n",
       "    .dataframe tbody tr th {\n",
       "        vertical-align: top;\n",
       "    }\n",
       "\n",
       "    .dataframe thead th {\n",
       "        text-align: right;\n",
       "    }\n",
       "</style>\n",
       "<table border=\"1\" class=\"dataframe\">\n",
       "  <thead>\n",
       "    <tr style=\"text-align: right;\">\n",
       "      <th></th>\n",
       "      <th>brand</th>\n",
       "      <th>name</th>\n",
       "      <th>processor_name</th>\n",
       "      <th>processor_brand</th>\n",
       "      <th>ram_type</th>\n",
       "      <th>display_type</th>\n",
       "      <th>gpu_brand</th>\n",
       "      <th>gpu</th>\n",
       "      <th>price</th>\n",
       "      <th>ghz</th>\n",
       "      <th>ram_gb</th>\n",
       "      <th>ssd_gb</th>\n",
       "      <th>hdd_gb</th>\n",
       "      <th>display_inch</th>\n",
       "      <th>adapter_w</th>\n",
       "      <th>battery_hrs</th>\n",
       "      <th>ram_expandable_gb</th>\n",
       "    </tr>\n",
       "  </thead>\n",
       "  <tbody>\n",
       "    <tr>\n",
       "      <th>774</th>\n",
       "      <td>HP</td>\n",
       "      <td>HP ENVY 15 ep1087TX (54B88PA)</td>\n",
       "      <td>Intel Core i9 (11th Gen)</td>\n",
       "      <td>Intel</td>\n",
       "      <td>DDR4 RAM</td>\n",
       "      <td>LED</td>\n",
       "      <td>NVIDIA</td>\n",
       "      <td>GeForce 3060</td>\n",
       "      <td>1931.88</td>\n",
       "      <td>4.8</td>\n",
       "      <td>32.0</td>\n",
       "      <td>1024.0</td>\n",
       "      <td>0.0</td>\n",
       "      <td>NaN</td>\n",
       "      <td>83.0</td>\n",
       "      <td>7.15</td>\n",
       "      <td>0.0</td>\n",
       "    </tr>\n",
       "  </tbody>\n",
       "</table>\n",
       "</div>"
      ],
      "text/plain": [
       "    brand                            name            processor_name  \\\n",
       "774    HP  HP ENVY 15 ep1087TX (54B88PA)   Intel Core i9 (11th Gen)   \n",
       "\n",
       "    processor_brand   ram_type display_type gpu_brand           gpu    price  \\\n",
       "774           Intel   DDR4 RAM          LED    NVIDIA  GeForce 3060  1931.88   \n",
       "\n",
       "     ghz  ram_gb  ssd_gb  hdd_gb  display_inch  adapter_w  battery_hrs  \\\n",
       "774  4.8    32.0  1024.0     0.0           NaN       83.0         7.15   \n",
       "\n",
       "     ram_expandable_gb  \n",
       "774                0.0  "
      ]
     },
     "execution_count": 690,
     "metadata": {},
     "output_type": "execute_result"
    }
   ],
   "source": [
    "df_clean[df_clean['display_inch'].isna()].head()"
   ]
  },
  {
   "cell_type": "code",
   "execution_count": 691,
   "id": "4273a6e5",
   "metadata": {},
   "outputs": [
    {
     "name": "stdout",
     "output_type": "stream",
     "text": [
      "['HP ENVY 15 ep1087TX (54B88PA) ']\n"
     ]
    }
   ],
   "source": [
    "print(df_clean[df_clean['display_inch'].isna()].name.tolist())"
   ]
  },
  {
   "cell_type": "code",
   "execution_count": 692,
   "id": "c066bfaf",
   "metadata": {},
   "outputs": [
    {
     "name": "stdout",
     "output_type": "stream",
     "text": [
      "[]\n"
     ]
    }
   ],
   "source": [
    "indici_nan_display = df_clean[df_clean['name'] == 'HP ENVY 15 ep1087TX (54B88PA) Laptop (| Core i9 11th Gen | 32 GB | Windows 11 | 1 TB SSD)::594930::computer::laptops'].index.tolist()\n",
    "print(indici_nan_display)\n"
   ]
  },
  {
   "cell_type": "markdown",
   "id": "82425e31",
   "metadata": {},
   "source": [
    "trovato manualmente in internet ed inserito"
   ]
  },
  {
   "cell_type": "code",
   "execution_count": 693,
   "id": "9474f4c1",
   "metadata": {},
   "outputs": [],
   "source": [
    "df_clean.at[774,  'display_inch'] = 15.6"
   ]
  },
  {
   "cell_type": "code",
   "execution_count": 694,
   "id": "ad20ea8d",
   "metadata": {},
   "outputs": [
    {
     "name": "stdout",
     "output_type": "stream",
     "text": [
      "brand                0\n",
      "name                 0\n",
      "processor_name       0\n",
      "processor_brand      0\n",
      "ram_type             0\n",
      "display_type         0\n",
      "gpu_brand            0\n",
      "gpu                  0\n",
      "price                0\n",
      "ghz                  0\n",
      "ram_gb               0\n",
      "ssd_gb               0\n",
      "hdd_gb               0\n",
      "display_inch         0\n",
      "adapter_w            0\n",
      "battery_hrs          0\n",
      "ram_expandable_gb    0\n",
      "dtype: int64\n"
     ]
    }
   ],
   "source": [
    "print(df_clean.isna().sum())"
   ]
  },
  {
   "cell_type": "code",
   "execution_count": 695,
   "id": "412d40d0",
   "metadata": {},
   "outputs": [
    {
     "data": {
      "text/html": [
       "<div>\n",
       "<style scoped>\n",
       "    .dataframe tbody tr th:only-of-type {\n",
       "        vertical-align: middle;\n",
       "    }\n",
       "\n",
       "    .dataframe tbody tr th {\n",
       "        vertical-align: top;\n",
       "    }\n",
       "\n",
       "    .dataframe thead th {\n",
       "        text-align: right;\n",
       "    }\n",
       "</style>\n",
       "<table border=\"1\" class=\"dataframe\">\n",
       "  <thead>\n",
       "    <tr style=\"text-align: right;\">\n",
       "      <th></th>\n",
       "      <th>brand</th>\n",
       "      <th>name</th>\n",
       "      <th>processor_name</th>\n",
       "      <th>processor_brand</th>\n",
       "      <th>ram_type</th>\n",
       "      <th>display_type</th>\n",
       "      <th>gpu_brand</th>\n",
       "      <th>gpu</th>\n",
       "      <th>price</th>\n",
       "      <th>ghz</th>\n",
       "      <th>ram_gb</th>\n",
       "      <th>ssd_gb</th>\n",
       "      <th>hdd_gb</th>\n",
       "      <th>display_inch</th>\n",
       "      <th>adapter_w</th>\n",
       "      <th>battery_hrs</th>\n",
       "      <th>ram_expandable_gb</th>\n",
       "    </tr>\n",
       "  </thead>\n",
       "  <tbody>\n",
       "    <tr>\n",
       "      <th>0</th>\n",
       "      <td>HP</td>\n",
       "      <td>HP Chromebook 11A-NA0002MU (2E4N0PA)</td>\n",
       "      <td>MediaTek Octa-core</td>\n",
       "      <td>MediaTek</td>\n",
       "      <td>DDR4 RAM</td>\n",
       "      <td>LED</td>\n",
       "      <td>MediaTek</td>\n",
       "      <td>Integrated</td>\n",
       "      <td>234.50</td>\n",
       "      <td>2.0</td>\n",
       "      <td>4.0</td>\n",
       "      <td>64.0</td>\n",
       "      <td>0.0</td>\n",
       "      <td>11.6</td>\n",
       "      <td>45.0</td>\n",
       "      <td>12.0</td>\n",
       "      <td>0.0</td>\n",
       "    </tr>\n",
       "    <tr>\n",
       "      <th>1</th>\n",
       "      <td>Lenovo</td>\n",
       "      <td>Lenovo Ideapad Slim 3 (82KU017KIN)</td>\n",
       "      <td>AMD Hexa-Core Ryzen 5</td>\n",
       "      <td>AMD</td>\n",
       "      <td>DDR4 RAM</td>\n",
       "      <td>LCD</td>\n",
       "      <td>AMD</td>\n",
       "      <td>Radeon</td>\n",
       "      <td>370.15</td>\n",
       "      <td>4.0</td>\n",
       "      <td>8.0</td>\n",
       "      <td>512.0</td>\n",
       "      <td>0.0</td>\n",
       "      <td>15.6</td>\n",
       "      <td>65.0</td>\n",
       "      <td>11.0</td>\n",
       "      <td>12.0</td>\n",
       "    </tr>\n",
       "    <tr>\n",
       "      <th>2</th>\n",
       "      <td>Dell</td>\n",
       "      <td>Dell G15-5520 (D560822WIN9B)</td>\n",
       "      <td>Intel Core i5 (12th Gen)</td>\n",
       "      <td>Intel</td>\n",
       "      <td>DDR5 RAM</td>\n",
       "      <td>LCD</td>\n",
       "      <td>NVIDIA</td>\n",
       "      <td>GeForce 3050</td>\n",
       "      <td>800.70</td>\n",
       "      <td>3.3</td>\n",
       "      <td>16.0</td>\n",
       "      <td>512.0</td>\n",
       "      <td>0.0</td>\n",
       "      <td>15.6</td>\n",
       "      <td>56.0</td>\n",
       "      <td>10.0</td>\n",
       "      <td>32.0</td>\n",
       "    </tr>\n",
       "    <tr>\n",
       "      <th>3</th>\n",
       "      <td>HP</td>\n",
       "      <td>HP 15s-fy5007TU (91R03PA)</td>\n",
       "      <td>Intel Core i5 (12th Gen)</td>\n",
       "      <td>Intel</td>\n",
       "      <td>DDR4 RAM</td>\n",
       "      <td>LCD</td>\n",
       "      <td>Intel</td>\n",
       "      <td>Iris Xe</td>\n",
       "      <td>566.00</td>\n",
       "      <td>4.2</td>\n",
       "      <td>8.0</td>\n",
       "      <td>512.0</td>\n",
       "      <td>0.0</td>\n",
       "      <td>15.6</td>\n",
       "      <td>0.0</td>\n",
       "      <td>7.3</td>\n",
       "      <td>8.0</td>\n",
       "    </tr>\n",
       "    <tr>\n",
       "      <th>4</th>\n",
       "      <td>Infinix</td>\n",
       "      <td>Infinix Inbook Y2 Plus XL29</td>\n",
       "      <td>Intel Core i3 (11th Gen)</td>\n",
       "      <td>Intel</td>\n",
       "      <td>LPDDR4X RAM</td>\n",
       "      <td>LCD</td>\n",
       "      <td>Intel</td>\n",
       "      <td>Uhd</td>\n",
       "      <td>224.30</td>\n",
       "      <td>1.7</td>\n",
       "      <td>8.0</td>\n",
       "      <td>512.0</td>\n",
       "      <td>0.0</td>\n",
       "      <td>15.6</td>\n",
       "      <td>45.0</td>\n",
       "      <td>8.0</td>\n",
       "      <td>0.0</td>\n",
       "    </tr>\n",
       "  </tbody>\n",
       "</table>\n",
       "</div>"
      ],
      "text/plain": [
       "     brand                                   name            processor_name  \\\n",
       "0       HP  HP Chromebook 11A-NA0002MU (2E4N0PA)         MediaTek Octa-core   \n",
       "1   Lenovo    Lenovo Ideapad Slim 3 (82KU017KIN)      AMD Hexa-Core Ryzen 5   \n",
       "2     Dell          Dell G15-5520 (D560822WIN9B)   Intel Core i5 (12th Gen)   \n",
       "3       HP             HP 15s-fy5007TU (91R03PA)   Intel Core i5 (12th Gen)   \n",
       "4  Infinix           Infinix Inbook Y2 Plus XL29   Intel Core i3 (11th Gen)   \n",
       "\n",
       "  processor_brand      ram_type display_type gpu_brand           gpu   price  \\\n",
       "0        MediaTek      DDR4 RAM          LED  MediaTek    Integrated  234.50   \n",
       "1             AMD     DDR4 RAM           LCD       AMD        Radeon  370.15   \n",
       "2           Intel     DDR5 RAM           LCD    NVIDIA  GeForce 3050  800.70   \n",
       "3           Intel     DDR4 RAM           LCD     Intel       Iris Xe  566.00   \n",
       "4           Intel   LPDDR4X RAM          LCD     Intel           Uhd  224.30   \n",
       "\n",
       "   ghz  ram_gb  ssd_gb  hdd_gb  display_inch  adapter_w  battery_hrs  \\\n",
       "0  2.0     4.0    64.0     0.0          11.6       45.0         12.0   \n",
       "1  4.0     8.0   512.0     0.0          15.6       65.0         11.0   \n",
       "2  3.3    16.0   512.0     0.0          15.6       56.0         10.0   \n",
       "3  4.2     8.0   512.0     0.0          15.6        0.0          7.3   \n",
       "4  1.7     8.0   512.0     0.0          15.6       45.0          8.0   \n",
       "\n",
       "   ram_expandable_gb  \n",
       "0                0.0  \n",
       "1               12.0  \n",
       "2               32.0  \n",
       "3                8.0  \n",
       "4                0.0  "
      ]
     },
     "execution_count": 695,
     "metadata": {},
     "output_type": "execute_result"
    }
   ],
   "source": [
    "df_clean.head()"
   ]
  },
  {
   "cell_type": "code",
   "execution_count": 696,
   "id": "6e699de8",
   "metadata": {},
   "outputs": [],
   "source": [
    "df_clean.to_csv(\"laptop.csv\", index=False)"
   ]
  }
 ],
 "metadata": {
  "kernelspec": {
   "display_name": "Rasa_es",
   "language": "python",
   "name": "python3"
  },
  "language_info": {
   "codemirror_mode": {
    "name": "ipython",
    "version": 3
   },
   "file_extension": ".py",
   "mimetype": "text/x-python",
   "name": "python",
   "nbconvert_exporter": "python",
   "pygments_lexer": "ipython3",
   "version": "3.8.20"
  }
 },
 "nbformat": 4,
 "nbformat_minor": 5
}
