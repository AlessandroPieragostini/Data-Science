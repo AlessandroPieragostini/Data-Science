{
 "cells": [
  {
   "cell_type": "code",
   "execution_count": 49,
   "id": "55939328",
   "metadata": {},
   "outputs": [
    {
     "name": "stdout",
     "output_type": "stream",
     "text": [
      "Dataset shape: (27481, 4)\n"
     ]
    }
   ],
   "source": [
    "import zipfile\n",
    "import pandas as pd\n",
    "\n",
    "zip_path = 'Twitter.zip'\n",
    "\n",
    "with zipfile.ZipFile(zip_path) as z:\n",
    "    with z.open('Tweets.csv') as csv:\n",
    "        df = pd.read_csv(csv)\n",
    "\n",
    "print(\"Dataset shape:\", df.shape)"
   ]
  },
  {
   "cell_type": "code",
   "execution_count": 50,
   "id": "f795f608",
   "metadata": {},
   "outputs": [
    {
     "name": "stdout",
     "output_type": "stream",
     "text": [
      "Index(['textID', 'text', 'selected_text', 'sentiment'], dtype='object')\n"
     ]
    }
   ],
   "source": [
    "print(df.columns)\n"
   ]
  },
  {
   "cell_type": "code",
   "execution_count": null,
   "id": "16c58bbd",
   "metadata": {},
   "outputs": [],
   "source": [
    "words = [\n",
    "    \"sex\", \"porn\", \"xxx\", \"nude\", \"explicit\", \"18+\", \"nsfw\", \"hardcore\",\n",
    "    \"naked\", \"erotic\", \"fetish\", \"fuck\", \"bitch\", \"boobs\",\n",
    "    \"dick\", \"pussy\", \"cock\", \"slut\", \"milf\", \"cum\", \"orgasm\",\n",
    "    \"blowjob\", \"handjob\", \"deepthroat\", \"threesome\", \"gangbang\",\n",
    "    \"stripper\", \"hooker\", \"escort\", \"camgirl\", \"sugar daddy\",\n",
    "    \"bondage\", \"bdsm\", \"dominatrix\", \"kinky\", \"lick\", \"moan\",\n",
    "    \"anal\", \"vibrator\", \"masturbation\", \"climax\", \"sex tape\",\n",
    "    \"playboy\", \"sensual\", \"seduce\", \"twerking\", \"squirting\",\n",
    "    \"penetration\", \"foreplay\", \"erogenous\", \"nipple\", \"lap dance\",\n",
    "    \"thong\", \"lingerie\", \"panties\", \"semen\", \"horny\", \"aroused\",\n",
    "    \"provocative\", \"breasts\", \"vagina\", \"penis\", \"buttocks\",\n",
    "    \"oral sex\", \"oral action\", \"attractive\", \"seduction\",\n",
    "    \"softcore\", \"hardcore\", \"deepfake\", \"taboo\", \"cunnilingus\",\n",
    "    \"dominance\", \"submission\", \"degrading\", \"wet dream\",\n",
    "    \"nude selfies\", \"sugar baby\", \"sexual fantasy\",\n",
    "    # \"murder\", \"kill\", \"slaughter\", \"torture\", \"execute\", \"decapitate\",\n",
    "    # \"terrorist\", \"bomb\", \"massacre\", \"shoot\", \"gun\", \"rifle\",\n",
    "    # \"stabbing\", \"lynch\", \"assassinate\", \"bloodbath\", \"beheading\",\n",
    "    # \"strangle\", \"rape\", \"abuse\", \"assault\", \"harassment\",\n",
    "    # \"pedophile\", \"molestation\", \"kidnap\", \"hostage\", \"extortion\",\n",
    "    # \"death threat\", \"violence\", \"riot\", \"fight\", \"attack\",\n",
    "    # \"mugging\", \"aggression\", \"choke\", \"punch\", \"stab\", \"burn\",\n",
    "    # \"hang\", \"drown\", \"brutal\", \"mutilation\", \"genocide\",\n",
    "    # \"suffocate\", \"savage\", \"blood\", \"gore\", \"brutality\",\n",
    "    # \"war crime\", \"child abuse\", \"animal abuse\", \"executed\",\n",
    "    # \"tied up\", \"psychopath\", \"serial killer\", \"homicide\",\n",
    "    # \"strangulation\", \"cruel\", \"sadistic\", \"deadly\", \"hatred\",\n",
    "    # \"threat\", \"beaten\", \"burned alive\", \"gunned down\",\n",
    "    # \"assaulted\", \"violated\", \"warzone\", \"dismember\",\n",
    "    # \"disfigure\", \"tortured\", \"violent\", \"corpses\"\n",
    "]"
   ]
  },
  {
   "cell_type": "code",
   "execution_count": 52,
   "id": "3834dcb3",
   "metadata": {},
   "outputs": [
    {
     "name": "stdout",
     "output_type": "stream",
     "text": [
      "(49, 4)\n"
     ]
    }
   ],
   "source": [
    "import re\n",
    "\n",
    "parole_escaped = [re.escape(p) for p in words]\n",
    "pattern = r'\\b(?:' + '|'.join(parole_escaped) + r')\\b'\n",
    "# => r'\\b(?:shoot)\\b'\n",
    "\n",
    "# 2. Cerchiamo in 'mia_colonna' solo parole intere\n",
    "mask = df['text'] \\\n",
    "         .astype(str) \\\n",
    "         .str.contains(pattern, case=False, na=False, regex=True)\n",
    "\n",
    "\n",
    "# Righe che contengono almeno una parola in qualsiasi colonna\n",
    "df_filtrato = df[mask]\n",
    "print(df_filtrato.shape)\n",
    "df_filtrato.to_csv(\n",
    "    'risultati.txt',\n",
    "    index=False,       # non includere l’indice\n",
    "    header=False,      # non includere l’intestazione\n",
    "    encoding='utf-8'   # per i caratteri accentati\n",
    ")\n"
   ]
  },
  {
   "cell_type": "code",
   "execution_count": 53,
   "id": "bbda9a05",
   "metadata": {},
   "outputs": [
    {
     "name": "stdout",
     "output_type": "stream",
     "text": [
      "(49, 4)\n"
     ]
    }
   ],
   "source": [
    "print(df_filtrato.shape)"
   ]
  },
  {
   "cell_type": "code",
   "execution_count": 54,
   "id": "498954ec",
   "metadata": {},
   "outputs": [
    {
     "name": "stdout",
     "output_type": "stream",
     "text": [
      "844      It just had to rain on me almost a perfect day...\n",
      "1245      yes super lakas ng ulan. buti nalang i have a...\n",
      "1284     ? American Pie FOREVER. I`m watching it right ...\n",
      "1478      OMG are u still naked 1313 XDD omg i miss you...\n",
      "3146      LOL! I liked the log ride reference, but all ...\n",
      "3442      ahhh...Lily`s new kitten just took a giant we...\n",
      "3661                             thats my moan for the day\n",
      "4481      australian hardcore/metalcore scene is amazin...\n",
      "4689     I chilled in my room with my baby book missed ...\n",
      "6076     rap battling at second sat, now at the moviess...\n",
      "6139     Here`s a big moan for Dave Leyrock... IM UP IN...\n",
      "6909     Just saw Star Trek. I am not a hardcore fan or...\n",
      "6919                        i wish i was home in bed naked\n",
      "7912       oh man that sucks hardcore! haha good luck f...\n",
      "8519      I see your date is showing you a good time   ...\n",
      "9128     i feel like a princess.  i love lingerie parties!\n",
      "9468      Pitty he wasnt arnd 2 huh! I wld have rlly we...\n",
      "10302    LOVES that lubbock is wet..its about time..no ...\n",
      "10544    I`ve done nothing today apart from moan,whinge...\n",
      "10700    putting up a half naked dougie poster  i love ...\n",
      "10992    is it normal for a masseusse to fully massage ...\n",
      "12028     I have been subtly replacing it with 'penetra...\n",
      "12494    Enjoying sunshine in the park with friends, pa...\n",
      "13231    not enjoying this cold, raininy Boston day.  I...\n",
      "14337    My door looks naked   It makes my room feel bi...\n",
      "14844      i know the feeling, working so much sucks ha...\n",
      "15112     imagine i would say'bitch!' lol if i were ma ...\n",
      "15119      being a fan is certainly not about being att...\n",
      "15254     warm and wet  spent the day carpet cleaning t...\n",
      "15518    i love pink, and i don`t care. today i shall n...\n",
      "16429    33 minutes left before my flannel hobbit shoes...\n",
      "16643     and the 'fuck  ' was because I dont get my gi...\n",
      "17042     saw the deforestation.so not surprised of bad...\n",
      "18223                              a wet and dirty one now\n",
      "18264    Well not JUST making dinner making dinner with...\n",
      "18838    Never made it to the gym so will be doing my b...\n",
      "19026     Pfft. FAN THIS *helicopters imaginary penis* ...\n",
      "19096    Worked out for about an hour.. nothing to hard...\n",
      "19334    I fought Jered to the death to avoid a wet wil...\n",
      "19538    Hahaha  yes dey dooo, BOSTON Legal  tha fat ol...\n",
      "20070     Praying for love in a lap dance, and paying i...\n",
      "20369                   well its pouring here. Rly rly wet\n",
      "22257    Buenos Dias mundo de Twitter  eating b-fast an...\n",
      "24025                       A group of people naked  woooh\n",
      "24102    ohi i would marry Travis Pastrana in a second....\n",
      "24198    assumes it wasnt so taboo to start an email wi...\n",
      "25121     Yes, Cathy.  (Ordinarily, I don`t have much o...\n",
      "25339     cupcake!!  you can call me anything but 'bitc...\n",
      "26519    Picked up Luna from the vet. She looks like sh...\n",
      "Name: text, dtype: object\n"
     ]
    }
   ],
   "source": [
    "print(df_filtrato['text'].head(100))"
   ]
  }
 ],
 "metadata": {
  "kernelspec": {
   "display_name": "base",
   "language": "python",
   "name": "python3"
  },
  "language_info": {
   "codemirror_mode": {
    "name": "ipython",
    "version": 3
   },
   "file_extension": ".py",
   "mimetype": "text/x-python",
   "name": "python",
   "nbconvert_exporter": "python",
   "pygments_lexer": "ipython3",
   "version": "3.12.4"
  }
 },
 "nbformat": 4,
 "nbformat_minor": 5
}
