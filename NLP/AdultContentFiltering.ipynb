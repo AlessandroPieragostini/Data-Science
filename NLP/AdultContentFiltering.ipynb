{
 "cells": [
  {
   "cell_type": "code",
   "execution_count": null,
   "id": "12546e58",
   "metadata": {},
   "outputs": [],
   "source": [
    "import zipfile\n",
    "import pandas as pd\n"
   ]
  },
  {
   "cell_type": "code",
   "execution_count": null,
   "id": "55939328",
   "metadata": {},
   "outputs": [
    {
     "name": "stdout",
     "output_type": "stream",
     "text": [
      "Dataset shape: (5966, 3)\n"
     ]
    }
   ],
   "source": [
    "zip_path = 'Reddit.zip'\n",
    "\n",
    "with zipfile.ZipFile(zip_path) as z:\n",
    "    with z.open('ruddit_comments_score.csv') as csv:\n",
    "        df = pd.read_csv(csv)\n",
    "\n",
    "print(\"Dataset shape:\", df.shape)"
   ]
  },
  {
   "cell_type": "code",
   "execution_count": 81,
   "id": "f795f608",
   "metadata": {},
   "outputs": [
    {
     "name": "stdout",
     "output_type": "stream",
     "text": [
      "Index(['comment_id', 'body', 'score'], dtype='object')\n"
     ]
    }
   ],
   "source": [
    "print(df.columns)\n"
   ]
  },
  {
   "cell_type": "code",
   "execution_count": null,
   "id": "16c58bbd",
   "metadata": {},
   "outputs": [],
   "source": [
    "words = [\n",
    "    \"sex\", \"porn\", \"xxx\", \"nude\", \"explicit\", \"18+\", \"nsfw\", \"hardcore\",\n",
    "    \"naked\", \"erotic\", \"fetish\", \"fuck\", \"bitch\", \"boobs\",\n",
    "    \"dick\", \"pussy\", \"cock\", \"slut\", \"milf\", \"cum\", \"orgasm\",\n",
    "    \"blowjob\", \"handjob\", \"deepthroat\", \"threesome\", \"gangbang\",\n",
    "    \"stripper\", \"hooker\", \"escort\", \"camgirl\", \"sugar daddy\",\n",
    "    \"bondage\", \"bdsm\", \"dominatrix\", \"kinky\", \"lick\", \"moan\",\n",
    "    \"anal\", \"vibrator\", \"masturbation\", \"climax\", \"sex tape\",\n",
    "    \"playboy\", \"sensual\", \"seduce\", \"twerking\", \"squirting\",\n",
    "    \"penetration\", \"foreplay\", \"erogenous\", \"nipple\", \"lap dance\",\n",
    "    \"thong\", \"lingerie\", \"panties\", \"semen\", \"horny\", \"aroused\",\n",
    "    \"provocative\", \"breasts\", \"vagina\", \"penis\", \"buttocks\",\n",
    "    \"oral sex\", \"oral action\", \"attractive\", \"seduction\",\n",
    "    \"softcore\", \"hardcore\", \"deepfake\", \"taboo\", \"cunnilingus\",\n",
    "    \"dominance\", \"submission\", \"degrading\", \"wet dream\",\n",
    "    \"nude selfies\", \"sugar baby\", \"sexual fantasy\",\n",
    "]\n",
    "\n",
    "sexual_words = [\n",
    "    \"murder\", \"kill\", \"slaughter\", \"torture\", \"execute\", \"decapitate\",\n",
    "    \"terrorist\", \"bomb\", \"massacre\", \"shoot\", \"gun\", \"rifle\",\n",
    "    \"stabbing\", \"lynch\", \"assassinate\", \"bloodbath\", \"beheading\",\n",
    "    \"strangle\", \"rape\", \"abuse\", \"assault\", \"harassment\",\n",
    "    \"pedophile\", \"molestation\", \"kidnap\", \"hostage\", \"extortion\",\n",
    "    \"death threat\", \"violence\", \"riot\", \"fight\", \"attack\",\n",
    "    \"mugging\", \"aggression\", \"choke\", \"punch\", \"stab\", \"burn\",\n",
    "    \"hang\", \"drown\", \"brutal\", \"mutilation\", \"genocide\",\n",
    "    \"suffocate\", \"savage\", \"blood\", \"gore\", \"brutality\",\n",
    "    \"war crime\", \"child abuse\", \"animal abuse\", \"executed\",\n",
    "    \"tied up\", \"psychopath\", \"serial killer\", \"homicide\",\n",
    "    \"strangulation\", \"cruel\", \"sadistic\", \"deadly\", \"hatred\",\n",
    "    \"threat\", \"beaten\", \"burned alive\", \"gunned down\",\n",
    "    \"assaulted\", \"violated\", \"warzone\", \"dismember\",\n",
    "    \"disfigure\", \"tortured\", \"violent\", \"corpses\"\n",
    "]"
   ]
  }
 ],
 "metadata": {
  "kernelspec": {
   "display_name": "base",
   "language": "python",
   "name": "python3"
  },
  "language_info": {
   "codemirror_mode": {
    "name": "ipython",
    "version": 3
   },
   "file_extension": ".py",
   "mimetype": "text/x-python",
   "name": "python",
   "nbconvert_exporter": "python",
   "pygments_lexer": "ipython3",
   "version": "3.12.4"
  }
 },
 "nbformat": 4,
 "nbformat_minor": 5
}
