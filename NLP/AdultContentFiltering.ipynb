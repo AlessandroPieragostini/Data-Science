{
 "cells": [
  {
   "cell_type": "code",
   "id": "12546e58",
   "metadata": {
    "ExecuteTime": {
     "end_time": "2025-07-07T13:25:23.839290Z",
     "start_time": "2025-07-07T13:25:23.802455Z"
    }
   },
   "source": [
    "import zipfile\n",
    "import pandas as pd\n",
    "import re\n",
    "import demoji\n",
    "import nltk\n",
    "from nltk.tokenize import TweetTokenizer, sent_tokenize, word_tokenize\n",
    "from nltk.corpus import stopwords\n",
    "from nltk.stem import WordNetLemmatizer\n",
    "from textblob import TextBlob\n",
    "import pandas as pd\n",
    "\n",
    "nltk.download('punkt_tab') #tokenizzazione\n",
    "nltk.download('stopwords') # stop words\n",
    "nltk.download('wordnet') # lemmatizzazione\n",
    "demoji.download_codes() # dizionario delle emoji"
   ],
   "outputs": [
    {
     "name": "stderr",
     "output_type": "stream",
     "text": [
      "[nltk_data] Downloading package punkt_tab to\n",
      "[nltk_data]     C:\\Users\\sarab\\AppData\\Roaming\\nltk_data...\n",
      "[nltk_data]   Package punkt_tab is already up-to-date!\n",
      "[nltk_data] Downloading package stopwords to\n",
      "[nltk_data]     C:\\Users\\sarab\\AppData\\Roaming\\nltk_data...\n",
      "[nltk_data]   Package stopwords is already up-to-date!\n",
      "[nltk_data] Downloading package wordnet to\n",
      "[nltk_data]     C:\\Users\\sarab\\AppData\\Roaming\\nltk_data...\n",
      "[nltk_data]   Package wordnet is already up-to-date!\n",
      "C:\\Users\\sarab\\AppData\\Local\\Temp\\ipykernel_28364\\2824634240.py:15: FutureWarning: The demoji.download_codes attribute is deprecated and will be removed from demoji in a future version. It is an unused attribute as emoji codes are now distributed directly with the demoji package.\n",
      "  demoji.download_codes() # dizionario delle emoji\n"
     ]
    }
   ],
   "execution_count": 7
  },
  {
   "cell_type": "code",
   "id": "55939328",
   "metadata": {
    "ExecuteTime": {
     "end_time": "2025-07-07T13:25:23.892884Z",
     "start_time": "2025-07-07T13:25:23.852479Z"
    }
   },
   "source": [
    "zip_path = 'redditComments.zip'\n",
    "\n",
    "with zipfile.ZipFile(zip_path) as z:\n",
    "    with z.open('ruddit_comments_score.csv') as csv:\n",
    "        df = pd.read_csv(csv)\n",
    "\n",
    "print(\"Dataset shape:\", df.shape)"
   ],
   "outputs": [
    {
     "name": "stdout",
     "output_type": "stream",
     "text": [
      "Dataset shape: (5966, 3)\n"
     ]
    }
   ],
   "execution_count": 8
  },
  {
   "cell_type": "code",
   "id": "f795f608",
   "metadata": {
    "ExecuteTime": {
     "end_time": "2025-07-07T13:25:23.990690Z",
     "start_time": "2025-07-07T13:25:23.980680Z"
    }
   },
   "source": [
    "df = df.drop(columns=['comment_id','score'])\n",
    "print(df.columns)"
   ],
   "outputs": [
    {
     "name": "stdout",
     "output_type": "stream",
     "text": [
      "Index(['body'], dtype='object')\n"
     ]
    }
   ],
   "execution_count": 9
  },
  {
   "cell_type": "code",
   "id": "16c58bbd",
   "metadata": {
    "ExecuteTime": {
     "end_time": "2025-07-07T13:25:24.056438Z",
     "start_time": "2025-07-07T13:25:24.035827Z"
    }
   },
   "source": [
    "sexual_words = [\n",
    "    \"sex\", \"porn\", \"xxx\", \"nude\", \"explicit\", \"18+\", \"nsfw\", \"hardcore\",\n",
    "    \"naked\", \"erotic\", \"fetish\", \"fuck\", \"bitch\", \"boobs\",\n",
    "    \"dick\", \"pussy\", \"cock\", \"slut\", \"milf\", \"cum\", \"orgasm\",\n",
    "    \"blowjob\", \"handjob\", \"deepthroat\", \"threesome\", \"gangbang\",\n",
    "    \"stripper\", \"hooker\", \"escort\", \"camgirl\", \"sugar daddy\",\n",
    "    \"bondage\", \"bdsm\", \"dominatrix\", \"kinky\", \"lick\", \"moan\",\n",
    "    \"anal\", \"vibrator\", \"masturbation\", \"climax\", \"sex tape\",\n",
    "    \"playboy\", \"sensual\", \"seduce\", \"twerking\", \"squirting\",\n",
    "    \"penetration\", \"foreplay\", \"erogenous\", \"nipple\", \"lap dance\",\n",
    "    \"thong\", \"lingerie\", \"panties\", \"semen\", \"horny\", \"aroused\",\n",
    "    \"provocative\", \"breasts\", \"vagina\", \"penis\", \"buttocks\",\n",
    "    \"oral sex\", \"oral action\", \"attractive\", \"seduction\",\n",
    "    \"softcore\", \"hardcore\", \"deepfake\", \"taboo\", \"cunnilingus\",\n",
    "    \"dominance\", \"submission\", \"degrading\", \"wet dream\",\n",
    "    \"nude selfies\", \"sugar baby\", \"sexual fantasy\",\n",
    "]\n",
    "\n",
    "violence_words = [\n",
    "    \"murder\", \"kill\", \"slaughter\", \"torture\", \"execute\", \"decapitate\",\n",
    "    \"terrorist\", \"bomb\", \"massacre\", \"shoot\", \"gun\", \"rifle\",\n",
    "    \"stabbing\", \"lynch\", \"assassinate\", \"bloodbath\", \"beheading\",\n",
    "    \"strangle\", \"rape\", \"abuse\", \"assault\", \"harassment\",\n",
    "    \"pedophile\", \"molestation\", \"kidnap\", \"hostage\", \"extortion\",\n",
    "    \"death threat\", \"violence\", \"riot\", \"fight\", \"attack\",\n",
    "    \"mugging\", \"aggression\", \"choke\", \"punch\", \"stab\", \"burn\",\n",
    "    \"hang\", \"drown\", \"brutal\", \"mutilation\", \"genocide\",\n",
    "    \"suffocate\", \"savage\", \"blood\", \"gore\", \"brutality\",\n",
    "    \"war crime\", \"child abuse\", \"animal abuse\", \"executed\",\n",
    "    \"tied up\", \"psychopath\", \"serial killer\", \"homicide\",\n",
    "    \"strangulation\", \"cruel\", \"sadistic\", \"deadly\", \"hatred\",\n",
    "    \"threat\", \"beaten\", \"burned alive\", \"gunned down\",\n",
    "    \"assaulted\", \"violated\", \"warzone\", \"dismember\",\n",
    "    \"disfigure\", \"tortured\", \"violent\", \"corpses\"\n",
    "]\n"
   ],
   "outputs": [],
   "execution_count": 10
  },
  {
   "metadata": {
    "ExecuteTime": {
     "end_time": "2025-07-07T13:25:28.804435Z",
     "start_time": "2025-07-07T13:25:24.069629Z"
    }
   },
   "cell_type": "code",
   "source": [
    "#Rimozione dei commenti nulli\n",
    "df = df.dropna(subset=['body'])\n",
    "df.drop(df[df['body'].str.startswith('[')].index, inplace=True)\n",
    "\n",
    "words_to_count = violence_words + sexual_words\n",
    "comment_count = df[\"body\"].astype(str).apply(lambda comment: any(re.search(rf\"\\b{re.escape(word)}\\b\", comment, re.IGNORECASE) for word in words_to_count)).sum()\n",
    "print(f\"Numero di commenti contenenti almeno una parola della lista: {comment_count}\")"
   ],
   "id": "df9de9e049b8f426",
   "outputs": [
    {
     "name": "stdout",
     "output_type": "stream",
     "text": [
      "Numero di commenti contenenti almeno una parola della lista: 1054\n"
     ]
    }
   ],
   "execution_count": 11
  },
  {
   "metadata": {
    "ExecuteTime": {
     "end_time": "2025-07-07T13:59:03.992310Z",
     "start_time": "2025-07-07T13:25:28.820201Z"
    }
   },
   "cell_type": "code",
   "source": [
    "dict1 = {\n",
    "    \"don't\": \"do not\", \"doesn't\": \"does not\", \"didn't\": \"did not\",\n",
    "    \"won't\": \"will not\", \"can't\": \"cannot\", \"i'm\": \"i am\", \"you're\": \"you are\",\n",
    "    \"it's\": \"it is\", \"they're\": \"they are\", \"we're\": \"we are\", \"isn't\": \"is not\",\n",
    "    \"aren't\": \"are not\", \"haven't\": \"have not\", \"hasn't\": \"has not\",\n",
    "    \"wasn't\": \"was not\", \"weren't\": \"were not\", \"shouldn't\": \"should not\",\n",
    "    \"wouldn't\": \"would not\", \"couldn't\": \"could not\", \"mustn't\": \"must not\"\n",
    "}\n",
    "\n",
    "dict2 = {\n",
    "    \"nude\": \"naked\", \"xxx\": \"porn\", \"tits\": \"breasts\", \"dick\": \"penis\",\n",
    "    \"pussy\": \"vagina\", \"bj\": \"blowjob\", \"cum\": \"semen\", \"hornyk\": \"aroused\",\n",
    "    \"milf\": \"attractive older woman\", \"nsfw\": \"not safe for work\",\n",
    "    \"thirsty\": \"sexually desperate\", \"ass\": \"buttocks\", \"booty\": \"buttocks\",\n",
    "    \"deepthroat\": \"oral sex\", \"suck\": \"oral action\", \"sexy\": \"attractive\"\n",
    "}\n",
    "\n",
    "def expand_contractions_and_slang(text):\n",
    "    #applicazione dei dizionari\n",
    "    for key, value in {**dict1, **dict2}.items():\n",
    "        text = re.sub(r\"\\b\" + key + r\"\\b\", value, text)\n",
    "    return text\n",
    "\n",
    "def correct_spelling(text):\n",
    "    #correzione degli errori ortografici\n",
    "    return str(TextBlob(text).correct())\n",
    "\n",
    "def segment_sentences(text):\n",
    "    # divisione in frasi\n",
    "    return sent_tokenize(text) if isinstance(text, str) else []\n",
    "\n",
    "def replace_emojis_and_ascii(text):\n",
    "    text = demoji.replace_with_desc(text)\n",
    "\n",
    "    # rimozione elementi non validi\n",
    "    text = re.sub(r'(\\*\\*|\\*\\w+\\*|\\W+\\*{2,})', '', text)\n",
    "    text = re.sub(r'(\\bxx+\\b)', 'explicit', text) \n",
    "    return text\n",
    "\n",
    "important_stopwords = {\"not\", \"no\", \"nor\", \"n't\", \"never\", \"hardly\", \"barely\", \"scarcely\",\n",
    "                       \"very\", \"really\", \"so\", \"extremely\", \"super\", \"terribly\", \"horribly\",\n",
    "                       \"awfully\", \"slightly\", \"somewhat\", \"but\", \"however\", \"although\",\n",
    "                       \"though\", \"yet\", \"i\", \"we\", \"you\", \"he\", \"she\", \"they\", \"my\", \"your\",\n",
    "                       \"why\", \"how\", \"what\"}\n",
    "\n",
    "stop_words = set(stopwords.words(\"english\")) - important_stopwords\n",
    "\n",
    "\n",
    "def preprocess_text(text):\n",
    "    \"\"\"Esegue il preprocessing completo di un testo per adult content filtering.\"\"\"\n",
    "    if isinstance(text, str):\n",
    "        text = text.lower()\n",
    "        text = expand_contractions_and_slang(text)\n",
    "        text = re.sub(r\"http\\S+|www\\S+|https\\S+\", \"\", text, flags=re.MULTILINE)\n",
    "        text = re.sub(r\"@\\w+|#\\w+\", \"\", text)\n",
    "        text = replace_emojis_and_ascii(text)\n",
    "        text = re.sub(r\"[^a-z\\s]\", \"\", text)\n",
    "        tokenizer = TweetTokenizer()\n",
    "        tokens = tokenizer.tokenize(text)\n",
    "        tokens = [word for word in tokens if word not in stop_words]\n",
    "        lemmatizer = WordNetLemmatizer()\n",
    "        tokens = [lemmatizer.lemmatize(word) for word in tokens]\n",
    "        text = correct_spelling(\" \".join(tokens))\n",
    "\n",
    "        return text\n",
    "    return \"\"\n",
    "df['Segmented_Comments'] = df['body'].apply(segment_sentences)\n",
    "df['Processed_Comment'] = df['body'].apply(preprocess_text)\n",
    "\n",
    "df.head()"
   ],
   "id": "5801330ef0c8ac98",
   "outputs": [
    {
     "data": {
      "text/plain": [
       "                                                body  \\\n",
       "0  > The difference in average earnings between m...   \n",
       "1  The myth is that the \"gap\" is entirely based o...   \n",
       "3  The assertion is that women get paid less for ...   \n",
       "4  You said in the OP that's not what they're mea...   \n",
       "5  >Men and women are not payed less for the same...   \n",
       "\n",
       "                                  Segmented_Comments  \\\n",
       "0  [> The difference in average earnings between ...   \n",
       "1  [The myth is that the \"gap\" is entirely based ...   \n",
       "3  [The assertion is that women get paid less for...   \n",
       "4  [You said in the OP that's not what they're me...   \n",
       "5  [>Men and women are not payed less for the sam...   \n",
       "\n",
       "                                   Processed_Comment  \n",
       "0  difference average earnings men woman explaine...  \n",
       "1                 myth gap entirely based sex person  \n",
       "3  assertion woman get paid less job they get pai...  \n",
       "4  you said op that not what they measuring they ...  \n",
       "5  men woman not played less job i not think many...  "
      ],
      "text/html": [
       "<div>\n",
       "<style scoped>\n",
       "    .dataframe tbody tr th:only-of-type {\n",
       "        vertical-align: middle;\n",
       "    }\n",
       "\n",
       "    .dataframe tbody tr th {\n",
       "        vertical-align: top;\n",
       "    }\n",
       "\n",
       "    .dataframe thead th {\n",
       "        text-align: right;\n",
       "    }\n",
       "</style>\n",
       "<table border=\"1\" class=\"dataframe\">\n",
       "  <thead>\n",
       "    <tr style=\"text-align: right;\">\n",
       "      <th></th>\n",
       "      <th>body</th>\n",
       "      <th>Segmented_Comments</th>\n",
       "      <th>Processed_Comment</th>\n",
       "    </tr>\n",
       "  </thead>\n",
       "  <tbody>\n",
       "    <tr>\n",
       "      <th>0</th>\n",
       "      <td>&gt; The difference in average earnings between m...</td>\n",
       "      <td>[&gt; The difference in average earnings between ...</td>\n",
       "      <td>difference average earnings men woman explaine...</td>\n",
       "    </tr>\n",
       "    <tr>\n",
       "      <th>1</th>\n",
       "      <td>The myth is that the \"gap\" is entirely based o...</td>\n",
       "      <td>[The myth is that the \"gap\" is entirely based ...</td>\n",
       "      <td>myth gap entirely based sex person</td>\n",
       "    </tr>\n",
       "    <tr>\n",
       "      <th>3</th>\n",
       "      <td>The assertion is that women get paid less for ...</td>\n",
       "      <td>[The assertion is that women get paid less for...</td>\n",
       "      <td>assertion woman get paid less job they get pai...</td>\n",
       "    </tr>\n",
       "    <tr>\n",
       "      <th>4</th>\n",
       "      <td>You said in the OP that's not what they're mea...</td>\n",
       "      <td>[You said in the OP that's not what they're me...</td>\n",
       "      <td>you said op that not what they measuring they ...</td>\n",
       "    </tr>\n",
       "    <tr>\n",
       "      <th>5</th>\n",
       "      <td>&gt;Men and women are not payed less for the same...</td>\n",
       "      <td>[&gt;Men and women are not payed less for the sam...</td>\n",
       "      <td>men woman not played less job i not think many...</td>\n",
       "    </tr>\n",
       "  </tbody>\n",
       "</table>\n",
       "</div>"
      ]
     },
     "execution_count": 12,
     "metadata": {},
     "output_type": "execute_result"
    }
   ],
   "execution_count": 12
  },
  {
   "metadata": {},
   "cell_type": "code",
   "outputs": [],
   "execution_count": null,
   "source": "df.to_pickle(\"Preprocessed_RedditComment_ACF.pkl\")",
   "id": "5692f5ed5c81c3f4"
  },
  {
   "metadata": {},
   "cell_type": "code",
   "outputs": [],
   "execution_count": null,
   "source": [
    "path_pickle = \"Preprocessed_RedditComment_ACF.pkl\"\n",
    "\n",
    "df = pd.read_pickle(path_pickle)\n",
    "df.head()\n",
    "df.info()"
   ],
   "id": "afaccab1c7e5ed92"
  },
  {
   "metadata": {
    "ExecuteTime": {
     "end_time": "2025-07-07T13:59:07.901499Z",
     "start_time": "2025-07-07T13:59:04.060132Z"
    }
   },
   "cell_type": "code",
   "source": [
    "words_to_count = sexual_words + violence_words\n",
    "\n",
    "def classify_comment(comment):\n",
    "    if any(re.search(rf\"\\b{re.escape(word)}\\b\", str(comment), re.IGNORECASE) for word in words_to_count):\n",
    "        return 1  # Commenti classificati per adulti\n",
    "    else:\n",
    "        return 0  # Commenti senza restrizioni\n",
    "\n",
    "df['Content_Label'] = df['Processed_Comment'].apply(classify_comment)\n",
    "\n",
    "print(df['Content_Label'].value_counts())\n",
    "df.info()"
   ],
   "id": "102a62ff238680e0",
   "outputs": [
    {
     "name": "stdout",
     "output_type": "stream",
     "text": [
      "Content_Label\n",
      "0    4608\n",
      "1    1114\n",
      "Name: count, dtype: int64\n",
      "<class 'pandas.core.frame.DataFrame'>\n",
      "Index: 5722 entries, 0 to 5965\n",
      "Data columns (total 4 columns):\n",
      " #   Column              Non-Null Count  Dtype \n",
      "---  ------              --------------  ----- \n",
      " 0   body                5722 non-null   object\n",
      " 1   Segmented_Comments  5722 non-null   object\n",
      " 2   Processed_Comment   5722 non-null   object\n",
      " 3   Content_Label       5722 non-null   int64 \n",
      "dtypes: int64(1), object(3)\n",
      "memory usage: 223.5+ KB\n"
     ]
    }
   ],
   "execution_count": 13
  },
  {
   "metadata": {
    "ExecuteTime": {
     "end_time": "2025-07-07T13:59:14.852950Z",
     "start_time": "2025-07-07T13:59:07.933967Z"
    }
   },
   "cell_type": "code",
   "source": [
    "from imblearn.under_sampling import RandomUnderSampler\n",
    "import pandas as pd\n",
    "\n",
    "class_counts = df['Content_Label'].value_counts()\n",
    "total_adult = class_counts[1]\n",
    "total_safe = class_counts[0] \n",
    "target_safe = int(total_adult * (60 / 40))\n",
    "\n",
    "if total_safe > target_safe:\n",
    "    undersampler = RandomUnderSampler(sampling_strategy={0: target_safe}, random_state=42)\n",
    "    x_balanced, y_balanced = undersampler.fit_resample(df, df['Content_Label'])\n",
    "\n",
    "    print(\"\\n🔹 Distribuzione delle classi:\\n\", pd.Series(y_balanced).value_counts())\n",
    "\n",
    "    df_balanced = pd.DataFrame(x_balanced)\n",
    "else:\n",
    "    df_balanced = df  # Se già bilanciato, usa il dataset originale"
   ],
   "id": "85c56689d3de7de9",
   "outputs": [
    {
     "name": "stdout",
     "output_type": "stream",
     "text": [
      "\n",
      "🔹 Distribuzione delle classi:\n",
      " Content_Label\n",
      "0    1671\n",
      "1    1114\n",
      "Name: count, dtype: int64\n"
     ]
    }
   ],
   "execution_count": 14
  },
  {
   "metadata": {
    "ExecuteTime": {
     "end_time": "2025-07-07T14:35:44.835244Z",
     "start_time": "2025-07-07T13:59:14.883543Z"
    }
   },
   "cell_type": "code",
   "source": [
    "import torch\n",
    "import time\n",
    "import pandas as pd\n",
    "import numpy as np\n",
    "import matplotlib.pyplot as plt\n",
    "from tqdm import tqdm\n",
    "from transformers import BertTokenizer, BertForSequenceClassification, BertConfig\n",
    "from torch.optim import AdamW\n",
    "from torch.utils.data import Dataset, DataLoader\n",
    "from sklearn.model_selection import train_test_split\n",
    "from sklearn.utils.class_weight import compute_class_weight\n",
    "from torch.optim.lr_scheduler import CosineAnnealingLR\n",
    "from sklearn.metrics import classification_report\n",
    "\n",
    "device = torch.device(\"cuda\" if torch.cuda.is_available() else \"mps\" if torch.backends.mps.is_available() else \"cpu\")\n",
    "print(f\"🔹 Using device: {device}\")\n",
    "\n",
    "print(\"🔹 Distribuzione delle classi dopo il bilanciamento:\\n\", df_balanced['Content_Label'].value_counts())\n",
    "\n",
    "train_texts, test_texts, train_labels, test_labels = train_test_split(\n",
    "    df_balanced['Processed_Comment'].tolist(), df_balanced['Content_Label'].tolist(),\n",
    "    test_size=0.2, stratify=df_balanced['Content_Label'], random_state=42\n",
    ")\n",
    "\n",
    "tokenizer = BertTokenizer.from_pretrained('bert-base-uncased')\n",
    "\n",
    "train_encodings = tokenizer(train_texts, truncation=True, padding='max_length', max_length=70, return_tensors='pt')\n",
    "test_encodings = tokenizer(test_texts, truncation=True, padding='max_length', max_length=70, return_tensors='pt')\n",
    "\n",
    "class ContentDataset(Dataset):\n",
    "    def __init__(self, encodings, labels):\n",
    "        self.encodings = encodings\n",
    "        self.labels = labels\n",
    "\n",
    "    def __len__(self):\n",
    "        return len(self.labels)\n",
    "\n",
    "    def __getitem__(self, idx):\n",
    "        return {\n",
    "            \"input_ids\": self.encodings[\"input_ids\"][idx],\n",
    "            \"attention_mask\": self.encodings[\"attention_mask\"][idx],\n",
    "            \"labels\": torch.tensor(self.labels[idx], dtype=torch.long)\n",
    "        }\n",
    "\n",
    "train_dataset = ContentDataset(train_encodings, train_labels)\n",
    "test_dataset = ContentDataset(test_encodings, test_labels)\n",
    "\n",
    "config = BertConfig.from_pretrained(\n",
    "    \"bert-base-uncased\",\n",
    "    num_labels=2,  # 🔹 Classificazione binaria\n",
    "    hidden_dropout_prob=0.3,\n",
    "    attention_probs_dropout_prob=0.3\n",
    ")\n",
    "\n",
    "model = BertForSequenceClassification.from_pretrained('bert-base-uncased', config=config)\n",
    "model.to(device)\n",
    "\n",
    "optimizer = AdamW(model.parameters(), lr=1e-5, weight_decay=0.01)\n",
    "lr_scheduler = CosineAnnealingLR(optimizer, T_max=10)\n",
    "\n",
    "BATCH_SIZE = 16\n",
    "train_loader = DataLoader(train_dataset, batch_size=BATCH_SIZE, shuffle=True)\n",
    "val_loader = DataLoader(test_dataset, batch_size=BATCH_SIZE)\n",
    "\n",
    "class_counts = df_balanced['Content_Label'].value_counts().sort_index()\n",
    "total_samples = len(df_balanced)\n",
    "class_weights = {i: total_samples / class_counts[i] for i in class_counts.index}\n",
    "class_weights_tensor = torch.tensor(list(class_weights.values()), dtype=torch.float).to(device)\n",
    "\n",
    "def train_model(model, train_loader, val_loader, epochs=5):\n",
    "\n",
    "    loss_fn = torch.nn.CrossEntropyLoss(weight=class_weights_tensor)\n",
    "\n",
    "    train_losses, val_losses = [], []\n",
    "    train_accuracies, val_accuracies = [], []\n",
    "\n",
    "    results = []\n",
    "    for epoch in range(epochs):\n",
    "        model.train()\n",
    "        loop = tqdm(train_loader, leave=True)\n",
    "        total_loss, correct, total = 0, 0, 0\n",
    "\n",
    "        for batch in loop:\n",
    "            inputs = {key: val.to(device) for key, val in batch.items() if key != \"labels\"}\n",
    "            labels = batch[\"labels\"].to(device)\n",
    "\n",
    "            outputs = model(**inputs)\n",
    "            loss = loss_fn(outputs.logits, labels)\n",
    "\n",
    "            optimizer.zero_grad()\n",
    "            loss.backward()\n",
    "            optimizer.step()\n",
    "            lr_scheduler.step()\n",
    "\n",
    "            predictions = torch.argmax(outputs.logits, dim=-1)\n",
    "            correct += (predictions == labels).sum().item()\n",
    "            total += labels.size(0)\n",
    "\n",
    "            total_loss += loss.item()\n",
    "            loop.set_description(f'Epoch {epoch + 1}')\n",
    "            loop.set_postfix(loss=loss.item(), acc=correct / total)\n",
    "\n",
    "        train_accuracy = correct / total\n",
    "        avg_training_loss = total_loss / len(train_loader)\n",
    "\n",
    "        val_loss, val_accuracy = evaluate_model(model, val_loader)\n",
    "\n",
    "        train_losses.append(avg_training_loss)\n",
    "        val_losses.append(val_loss)\n",
    "        train_accuracies.append(train_accuracy)\n",
    "        val_accuracies.append(val_accuracy)\n",
    "\n",
    "        print(f\"\\n🔹 Epoch {epoch + 1}: Training Loss: {avg_training_loss:.4f}, Training Accuracy: {train_accuracy:.4f}\")\n",
    "        print(f\"🔹 Validation Loss: {val_loss:.4f}, Validation Accuracy: {val_accuracy:.4f}\")\n",
    "\n",
    "        results.append({\n",
    "            \"Epoch\": epoch + 1,\n",
    "            \"Training Loss\": round(avg_training_loss, 4),\n",
    "            \"Training Accuracy\": round(train_accuracy, 4),\n",
    "            \"Validation Loss\": round(val_loss, 4),\n",
    "            \"Validation Accuracy\": round(val_accuracy, 4)\n",
    "        })\n",
    "\n",
    "    plot_metrics(train_losses, val_losses, train_accuracies, val_accuracies)\n",
    "\n",
    "    results_df = pd.DataFrame(results)\n",
    "    print(results_df)\n",
    "    return results_df\n",
    "\n",
    "def evaluate_model(model, val_loader):\n",
    "    model.eval()\n",
    "    total_loss, correct, total = 0, 0, 0\n",
    "    loss_fn = torch.nn.CrossEntropyLoss(weight=class_weights_tensor)\n",
    "\n",
    "    with torch.no_grad():\n",
    "        for batch in val_loader:\n",
    "            inputs = {key: val.to(device) for key, val in batch.items() if key != \"labels\"}\n",
    "            labels = batch[\"labels\"].to(device)\n",
    "\n",
    "            outputs = model(**inputs)\n",
    "            loss = loss_fn(outputs.logits, labels)\n",
    "            total_loss += loss.item()\n",
    "\n",
    "            predictions = torch.argmax(outputs.logits, dim=-1)\n",
    "            correct += (predictions == labels).sum().item()\n",
    "            total += labels.size(0)\n",
    "\n",
    "    return total_loss / len(val_loader), correct / total\n",
    "\n",
    "\n",
    "def plot_metrics(train_losses, val_losses, train_accuracies, val_accuracies):\n",
    "    plt.figure(figsize=(12, 5))\n",
    "\n",
    "\n",
    "    plt.subplot(1, 2, 1)\n",
    "    plt.plot(range(1, len(train_losses) + 1), train_losses, label='Training Loss')\n",
    "    plt.plot(range(1, len(val_losses) + 1), val_losses, label='Validation Loss')\n",
    "    plt.xlabel('Epochs')\n",
    "    plt.ylabel('Loss')\n",
    "    plt.title('Training & Validation Loss')\n",
    "    plt.legend()\n",
    "\n",
    "\n",
    "    plt.subplot(1, 2, 2)\n",
    "    plt.plot(range(1, len(train_accuracies) + 1), train_accuracies, label='Training Accuracy')\n",
    "    plt.plot(range(1, len(val_accuracies) + 1), val_accuracies, label='Validation Accuracy')\n",
    "    plt.xlabel('Epochs')\n",
    "    plt.ylabel('Accuracy')\n",
    "    plt.title('Training & Validation Accuracy')\n",
    "    plt.legend()\n",
    "\n",
    "    plt.show()\n",
    "\n",
    "results_df = train_model(model, train_loader, val_loader, epochs=5)"
   ],
   "id": "b775ea74a25e2b67",
   "outputs": [
    {
     "name": "stderr",
     "output_type": "stream",
     "text": [
      "C:\\Users\\sarab\\AppData\\Local\\Programs\\Python\\Python312\\Lib\\site-packages\\tqdm\\auto.py:21: TqdmWarning: IProgress not found. Please update jupyter and ipywidgets. See https://ipywidgets.readthedocs.io/en/stable/user_install.html\n",
      "  from .autonotebook import tqdm as notebook_tqdm\n"
     ]
    },
    {
     "name": "stdout",
     "output_type": "stream",
     "text": [
      "🔹 Using device: cpu\n",
      "🔹 Distribuzione delle classi dopo il bilanciamento:\n",
      " Content_Label\n",
      "0    1671\n",
      "1    1114\n",
      "Name: count, dtype: int64\n"
     ]
    },
    {
     "name": "stderr",
     "output_type": "stream",
     "text": [
      "C:\\Users\\sarab\\AppData\\Local\\Programs\\Python\\Python312\\Lib\\site-packages\\huggingface_hub\\file_download.py:943: FutureWarning: `resume_download` is deprecated and will be removed in version 1.0.0. Downloads always resume when possible. If you want to force a new download, use `force_download=True`.\n",
      "  warnings.warn(\n",
      "Some weights of BertForSequenceClassification were not initialized from the model checkpoint at bert-base-uncased and are newly initialized: ['classifier.bias', 'classifier.weight']\n",
      "You should probably TRAIN this model on a down-stream task to be able to use it for predictions and inference.\n",
      "Epoch 1: 100%|██████████| 140/140 [06:48<00:00,  2.92s/it, acc=0.46, loss=0.676] \n"
     ]
    },
    {
     "name": "stdout",
     "output_type": "stream",
     "text": [
      "\n",
      "🔹 Epoch 1: Training Loss: 0.7166, Training Accuracy: 0.4601\n",
      "🔹 Validation Loss: 0.6862, Validation Accuracy: 0.6050\n"
     ]
    },
    {
     "name": "stderr",
     "output_type": "stream",
     "text": [
      "Epoch 2: 100%|██████████| 140/140 [06:33<00:00,  2.81s/it, acc=0.54, loss=0.817] \n"
     ]
    },
    {
     "name": "stdout",
     "output_type": "stream",
     "text": [
      "\n",
      "🔹 Epoch 2: Training Loss: 0.6876, Training Accuracy: 0.5404\n",
      "🔹 Validation Loss: 0.6286, Validation Accuracy: 0.7199\n"
     ]
    },
    {
     "name": "stderr",
     "output_type": "stream",
     "text": [
      "Epoch 3: 100%|██████████| 140/140 [06:12<00:00,  2.66s/it, acc=0.657, loss=0.681]\n"
     ]
    },
    {
     "name": "stdout",
     "output_type": "stream",
     "text": [
      "\n",
      "🔹 Epoch 3: Training Loss: 0.6272, Training Accuracy: 0.6571\n",
      "🔹 Validation Loss: 0.4866, Validation Accuracy: 0.7864\n"
     ]
    },
    {
     "name": "stderr",
     "output_type": "stream",
     "text": [
      "Epoch 4: 100%|██████████| 140/140 [07:16<00:00,  3.12s/it, acc=0.751, loss=0.426]\n"
     ]
    },
    {
     "name": "stdout",
     "output_type": "stream",
     "text": [
      "\n",
      "🔹 Epoch 4: Training Loss: 0.5222, Training Accuracy: 0.7509\n",
      "🔹 Validation Loss: 0.3695, Validation Accuracy: 0.8564\n"
     ]
    },
    {
     "name": "stderr",
     "output_type": "stream",
     "text": [
      "Epoch 5: 100%|██████████| 140/140 [07:16<00:00,  3.12s/it, acc=0.861, loss=0.862]\n"
     ]
    },
    {
     "name": "stdout",
     "output_type": "stream",
     "text": [
      "\n",
      "🔹 Epoch 5: Training Loss: 0.3640, Training Accuracy: 0.8609\n",
      "🔹 Validation Loss: 0.3455, Validation Accuracy: 0.8438\n"
     ]
    },
    {
     "data": {
      "text/plain": [
       "<Figure size 1200x500 with 2 Axes>"
      ],
      "image/png": "[encoded data removed]"
     },
     "metadata": {},
     "output_type": "display_data"
    },
    {
     "name": "stdout",
     "output_type": "stream",
     "text": [
      "   Epoch  Training Loss  Training Accuracy  Validation Loss  \\\n",
      "0      1         0.7166             0.4601           0.6862   \n",
      "1      2         0.6876             0.5404           0.6286   \n",
      "2      3         0.6272             0.6571           0.4866   \n",
      "3      4         0.5222             0.7509           0.3695   \n",
      "4      5         0.3640             0.8609           0.3455   \n",
      "\n",
      "   Validation Accuracy  \n",
      "0               0.6050  \n",
      "1               0.7199  \n",
      "2               0.7864  \n",
      "3               0.8564  \n",
      "4               0.8438  \n"
     ]
    }
   ],
   "execution_count": 15
  },
  {
   "metadata": {
    "ExecuteTime": {
     "end_time": "2025-07-07T14:36:06.094664Z",
     "start_time": "2025-07-07T14:35:44.943876Z"
    }
   },
   "cell_type": "code",
   "source": [
    "import torch\n",
    "import numpy as np\n",
    "import matplotlib.pyplot as plt\n",
    "import seaborn as sns\n",
    "from sklearn.metrics import confusion_matrix, classification_report\n",
    "\n",
    "def plot_confusion_matrix(model, val_loader, class_names=['safe', 'adult']):\n",
    "    model.eval()\n",
    "    all_preds, all_labels = [], []\n",
    "\n",
    "    with torch.no_grad():\n",
    "        for batch in val_loader:\n",
    "            inputs = {key: val.to(device) for key, val in batch.items() if key != \"labels\"}\n",
    "            labels = batch[\"labels\"].cpu().numpy()\n",
    "\n",
    "            outputs = model(**inputs)\n",
    "            preds = torch.argmax(outputs.logits, dim=-1).cpu().numpy()\n",
    "\n",
    "            all_preds.extend(preds)\n",
    "            all_labels.extend(labels)\n",
    "\n",
    "    cm = confusion_matrix(all_labels, all_preds)\n",
    "\n",
    "    plt.figure(figsize=(6, 5))\n",
    "    sns.heatmap(cm, annot=True, fmt=\"d\", cmap=\"Blues\", xticklabels=class_names, yticklabels=class_names)\n",
    "    plt.xlabel(\"Predicted Label\")\n",
    "    plt.ylabel(\"True Label\")\n",
    "    plt.title(\"Confusion Matrix\")\n",
    "    plt.show()\n",
    "\n",
    "    print(\"\\n🔹 Classification Report:\")\n",
    "    print(classification_report(all_labels, all_preds, target_names=class_names))\n",
    "\n",
    "plot_confusion_matrix(model, val_loader)"
   ],
   "id": "a5835287dadf8361",
   "outputs": [
    {
     "data": {
      "text/plain": [
       "<Figure size 600x500 with 2 Axes>"
      ],
      "image/png": "[encoded data removed]"
     },
     "metadata": {},
     "output_type": "display_data"
    },
    {
     "name": "stdout",
     "output_type": "stream",
     "text": [
      "\n",
      "🔹 Classification Report:\n",
      "              precision    recall  f1-score   support\n",
      "\n",
      "        safe       0.94      0.79      0.86       334\n",
      "       adult       0.75      0.92      0.83       223\n",
      "\n",
      "    accuracy                           0.84       557\n",
      "   macro avg       0.84      0.86      0.84       557\n",
      "weighted avg       0.86      0.84      0.85       557\n",
      "\n"
     ]
    }
   ],
   "execution_count": 16
  }
 ],
 "metadata": {
  "kernelspec": {
   "display_name": "base",
   "language": "python",
   "name": "python3"
  },
  "language_info": {
   "codemirror_mode": {
    "name": "ipython",
    "version": 3
   },
   "file_extension": ".py",
   "mimetype": "text/x-python",
   "name": "python",
   "nbconvert_exporter": "python",
   "pygments_lexer": "ipython3",
   "version": "3.12.4"
  }
 },
 "nbformat": 4,
 "nbformat_minor": 5
}
